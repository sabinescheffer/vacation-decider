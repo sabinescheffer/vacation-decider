{
 "cells": [
  {
   "cell_type": "markdown",
   "metadata": {
    "tags": []
   },
   "source": [
    "# Vacation Decider\n",
    "#### This project is based on the temperatures retrieved from the Metaweather API: https://www.metaweather.com/api/#locationday"
   ]
  },
  {
   "cell_type": "markdown",
   "metadata": {},
   "source": [
    "#### Imports"
   ]
  },
  {
   "cell_type": "code",
   "execution_count": null,
   "metadata": {},
   "outputs": [],
   "source": [
    "import yaml\n",
    "import numpy as np\n",
    "import pandas as pd\n",
    "import requests\n",
    "import datetime\n",
    "from datetime import timedelta\n",
    "import folium\n",
    "from folium import plugins"
   ]
  },
  {
   "cell_type": "markdown",
   "metadata": {
    "tags": []
   },
   "source": [
    "#### Setup"
   ]
  },
  {
   "cell_type": "code",
   "execution_count": null,
   "metadata": {},
   "outputs": [],
   "source": [
    "import os\n",
    "os.chdir('/Users/sabinescheffer/dev/vacation-decider')"
   ]
  },
  {
   "cell_type": "code",
   "execution_count": null,
   "metadata": {},
   "outputs": [],
   "source": [
    "def get_airports_dict(airports_url, countries):\n",
    "    df = pd.read_csv(airports_url, header=None)\n",
    "    df_filtered = df[df[3].isin(countries)]\n",
    "    airports = df_filtered[[6,7]].to_dict(orient='records')\n",
    "    return airports"
   ]
  },
  {
   "cell_type": "code",
   "execution_count": null,
   "metadata": {},
   "outputs": [],
   "source": [
    "def get_woeid(weather_url, airports_dict):\n",
    "    locations = {}\n",
    "    for loc in airports_dict: \n",
    "        response = requests.get(weather_url + f'search/?lattlong={loc[6]}, {loc[7]}')\n",
    "        items = response.json()\n",
    "        if len(items) > 0 and items[0]['distance'] < 10000:\n",
    "            if items[0]['title'] not in locations.keys():\n",
    "                locations[items[0]['title']] = {items[0]['latt_long']: items[0]['woeid']}  \n",
    "                city = items[0]['title']\n",
    "                print(f'==> found woeid for {city}')\n",
    "    return locations"
   ]
  },
  {
   "cell_type": "code",
   "execution_count": null,
   "metadata": {},
   "outputs": [],
   "source": [
    "def get_dates(start_date, end_date):\n",
    "    start_date = datetime.datetime.strptime(start_date, \"%Y-%m-%d\") \n",
    "    end_date = datetime.datetime.strptime(end_date, \"%Y-%m-%d\")  \n",
    "    dates = [start_date+timedelta(days=x) for x in range(((end_date+timedelta(days=1))-start_date).days)]\n",
    "    return dates"
   ]
  },
  {
   "cell_type": "code",
   "execution_count": null,
   "metadata": {},
   "outputs": [],
   "source": [
    "def get_temperatures(url, locations, dates):\n",
    "    temp_list = []\n",
    "    for city, location in locations.items():\n",
    "        for latt_long, woeid in location.items():\n",
    "            temp = []\n",
    "            for day in dates:\n",
    "                response = requests.get(weather_url + f'{woeid}/{day.year}/{day.month}/{day.day}/')\n",
    "                items = response.json()\n",
    "                noon_temp = items[int(len(items)/2)]['the_temp']\n",
    "                if noon_temp:\n",
    "                    temp.append(noon_temp)\n",
    "        print(f'==> found temperature for {city}')\n",
    "\n",
    "        temp_list.append({'city': city,\n",
    "                          'latt_long': latt_long,\n",
    "                          'avg_temp': round(np.mean(temp),2)}) \n",
    "    return temp_list"
   ]
  },
  {
   "cell_type": "code",
   "execution_count": null,
   "metadata": {},
   "outputs": [],
   "source": [
    "def create_dataframe(temp_list):\n",
    "    df = pd.DataFrame(temp_list)\n",
    "    df = pd.concat([df, df['latt_long'].str.split(',', expand=True)], axis=1)\n",
    "    df = df.rename(columns = {0: 'latt', 1: 'long'})\n",
    "    df = df.drop(columns='latt_long')\n",
    "    return df"
   ]
  },
  {
   "cell_type": "code",
   "execution_count": null,
   "metadata": {},
   "outputs": [],
   "source": [
    "with open('config.yaml', 'r') as c:\n",
    "    config = yaml.load(c, Loader=yaml.FullLoader)\n",
    "\n",
    "start_date = config['time_period']['start_date']\n",
    "end_date = config['time_period']['end_date']"
   ]
  },
  {
   "cell_type": "code",
   "execution_count": null,
   "metadata": {},
   "outputs": [],
   "source": [
    "AIRPORTS_URL = 'https://raw.githubusercontent.com/jpatokal/openflights/master/data/airports.dat'\n",
    "METAWEATHER_URL = 'https://www.metaweather.com/api/location/'"
   ]
  },
  {
   "cell_type": "code",
   "execution_count": null,
   "metadata": {},
   "outputs": [],
   "source": [
    "airports = get_airports_dict(AIRPORTS_URL, config['countries'])\n",
    "locations = get_woeid(METAWEATHER_URL, airports)\n",
    "dates = get_dates(start_date, end_date)\n",
    "temperatures = get_temperatures(METAWEATHER_URL, locations, dates)"
   ]
  },
  {
   "cell_type": "markdown",
   "metadata": {},
   "source": [
    "-------------------------------------------------------------------------------------------------------------------------------------"
   ]
  },
  {
   "cell_type": "markdown",
   "metadata": {},
   "source": [
    "### Create map"
   ]
  },
  {
   "cell_type": "code",
   "execution_count": null,
   "metadata": {},
   "outputs": [],
   "source": [
    "temps = df.loc[:,[\"latt\",\"long\",\"avg_temp\"]]\n",
    "map = folium.Map(location=[52.373119, 4.893190], zoom_start=4)"
   ]
  },
  {
   "cell_type": "code",
   "execution_count": null,
   "metadata": {},
   "outputs": [],
   "source": [
    "lat = list(df.latt)\n",
    "lon = list(df.long)\n",
    "temp = list(df.avg_temp)\n",
    "cities = list(df.city)"
   ]
  },
  {
   "cell_type": "code",
   "execution_count": null,
   "metadata": {},
   "outputs": [],
   "source": [
    "colormap = folium.LinearColormap(colors=['lightblue','orange','red'], vmin=min(temp), vmax=max(temp))\n",
    "colormap.caption = 'Average Temperature'"
   ]
  },
  {
   "cell_type": "code",
   "execution_count": null,
   "metadata": {},
   "outputs": [],
   "source": [
    "for loc, city, t in zip(zip(lat, lon), cities, temp):\n",
    "    folium.CircleMarker(\n",
    "        location=loc,\n",
    "        radius=7,\n",
    "        popup=(city, t),\n",
    "        fill=True,\n",
    "        color=colormap(t),\n",
    "        fill_opacity=0.8\n",
    "    ).add_to(map)\n",
    "colormap.add_to(map)"
   ]
  },
  {
   "cell_type": "code",
   "execution_count": null,
   "metadata": {
    "tags": []
   },
   "outputs": [],
   "source": [
    "map"
   ]
  },
  {
   "cell_type": "code",
   "execution_count": null,
   "metadata": {},
   "outputs": [],
   "source": []
  }
 ],
 "metadata": {
  "kernelspec": {
   "display_name": "Python 3 (ipykernel)",
   "language": "python",
   "name": "python3"
  },
  "language_info": {
   "codemirror_mode": {
    "name": "ipython",
    "version": 3
   },
   "file_extension": ".py",
   "mimetype": "text/x-python",
   "name": "python",
   "nbconvert_exporter": "python",
   "pygments_lexer": "ipython3",
   "version": "3.7.12"
  }
 },
 "nbformat": 4,
 "nbformat_minor": 4
}
